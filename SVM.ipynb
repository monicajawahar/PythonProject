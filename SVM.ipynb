{
 "cells": [
  {
   "cell_type": "code",
   "execution_count": 9,
   "metadata": {},
   "outputs": [
    {
     "name": "stdout",
     "output_type": "stream",
     "text": [
      "<class 'pandas.core.frame.DataFrame'>\n",
      "RangeIndex: 100 entries, 0 to 99\n",
      "Data columns (total 8 columns):\n",
      "Open           100 non-null float64\n",
      "High           100 non-null float64\n",
      "Low            100 non-null float64\n",
      "Last           100 non-null float64\n",
      "Close          100 non-null float64\n",
      "Total          100 non-null int64\n",
      "Turnover       100 non-null float64\n",
      "TurnoverVal    100 non-null int64\n",
      "dtypes: float64(6), int64(2)\n",
      "memory usage: 6.4 KB\n"
     ]
    },
    {
     "data": {
      "image/png": "[encoded data removed]",
      "text/plain": [
       "<Figure size 720x576 with 1 Axes>"
      ]
     },
     "metadata": {
      "needs_background": "light"
     },
     "output_type": "display_data"
    }
   ],
   "source": [
    "import pandas as pd\n",
    "\n",
    "df = pd.read_csv('C:/Users/Shiv SJ/Desktop/Sem 6/CIP/Programs/stock4.csv')\n",
    "df.head()\n",
    "df.info()\n",
    "target = df['TurnoverVal']\n",
    "s = set()\n",
    "for val in target:\n",
    "    s.add(val)\n",
    "s = list(s)\n",
    "import matplotlib.pyplot as plt\n",
    "\n",
    "x = df['Low']\n",
    "y = df['High']\n",
    "\n",
    "open_x = x[:50]\n",
    "open_y = y[:50]\n",
    "\n",
    "high_x = x[50:100]\n",
    "high_y = y[50:100]\n",
    "\n",
    "plt.figure(figsize=(10,8))\n",
    "plt.scatter(open_x,open_y,marker='+',color='green')\n",
    "plt.scatter(high_x,high_y,marker='_',color='red')\n",
    "plt.show()\n"
   ]
  },
  {
   "cell_type": "code",
   "execution_count": 10,
   "metadata": {},
   "outputs": [
    {
     "name": "stdout",
     "output_type": "stream",
     "text": [
      "[265.0, 258.3, 258.9, 3357333.0, 8804.57]\n",
      "Enter turnover value in lakhs7644567\n",
      "Label is 1\n"
     ]
    }
   ],
   "source": [
    "from sklearn.utils import shuffle\n",
    "from sklearn.model_selection import train_test_split\n",
    "import numpy as np\n",
    "## Drop rest of the features and extract the target values\n",
    "df = df.drop(['Low','High'],axis=1)\n",
    "Y = []\n",
    "target = df['TurnoverVal']\n",
    "for val in target:\n",
    "    if(val == 1):\n",
    "        Y.append(-1)\n",
    "    else:\n",
    "        Y.append(1)\n",
    "df = df.drop(['TurnoverVal'],axis=1)\n",
    "X = df.values.tolist()\n",
    "\n",
    "\n",
    "    \n",
    "X, Y = shuffle(X,Y)\n",
    "x_train = []\n",
    "y_train = []\n",
    "x_test = []\n",
    "y_test = []\n",
    "\n",
    "x_train, x_test, y_train, y_test = train_test_split(X, Y, train_size=0.9)\n",
    "\n",
    "x_train = np.array(x_train)\n",
    "y_train = np.array(y_train)\n",
    "x_test = np.array(x_test)\n",
    "y_test = np.array(y_test)\n",
    "\n",
    "y_train = y_train.reshape(90,1)\n",
    "y_test = y_test.reshape(10,1)\n",
    "\n",
    "print(X[0])\n",
    "from sklearn.metrics import accuracy_score\n",
    "\n",
    "## Clip the weights \n",
    "index = list(range(10,90))\n",
    "w1=0\n",
    "w2=0\n",
    "#w1 = np.delete(w1,index)\n",
    "#w2 = np.delete(w2,index)\n",
    "\n",
    "#w1 = w1.reshape(10,1)\n",
    "#w2 = w2.reshape(10,1)\n",
    "## Extract the test data features \n",
    "test_f1 = x_test[:,0]\n",
    "test_f2 = x_test[:,1]\n",
    "\n",
    "test_f1 = test_f1.reshape(10,1)\n",
    "test_f2 = test_f2.reshape(10,1)\n",
    "## Predict\n",
    "y_pred = w1 * test_f1 + w2 * test_f2\n",
    "predictions = []\n",
    "for val in y_pred:\n",
    "    if(val > 1):\n",
    "        predictions.append(1)\n",
    "    else:\n",
    "        predictions.append(-1)\n",
    "\n",
    "\n",
    "\n",
    "x=eval(input('Enter turnover value in lakhs'))\n",
    "int(x)\n",
    "if x>5000:\n",
    "    print('Label is 1')\n",
    "else:\n",
    "    print('Label is 0')\n",
    "\n"
   ]
  },
  {
   "cell_type": "code",
   "execution_count": 11,
   "metadata": {},
   "outputs": [
    {
     "name": "stdout",
     "output_type": "stream",
     "text": [
      "0.9\n"
     ]
    }
   ],
   "source": [
    "print(accuracy_score(y_test,predictions))"
   ]
  },
  {
   "cell_type": "code",
   "execution_count": null,
   "metadata": {},
   "outputs": [],
   "source": []
  }
 ],
 "metadata": {
  "kernelspec": {
   "display_name": "Python 3",
   "language": "python",
   "name": "python3"
  },
  "language_info": {
   "codemirror_mode": {
    "name": "ipython",
    "version": 3
   },
   "file_extension": ".py",
   "mimetype": "text/x-python",
   "name": "python",
   "nbconvert_exporter": "python",
   "pygments_lexer": "ipython3",
   "version": "3.7.4"
  }
 },
 "nbformat": 4,
 "nbformat_minor": 2
}
